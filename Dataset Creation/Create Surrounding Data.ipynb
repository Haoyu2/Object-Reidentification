{
 "cells": [
  {
   "cell_type": "code",
   "execution_count": 1,
   "metadata": {},
   "outputs": [],
   "source": [
    "from pathlib import Path\n",
    "import numpy as np\n",
    "from PIL import Image\n",
    "from IPython.display import display\n",
    "import cv2 as cv\n",
    "import numpy as np\n",
    "import json\n",
    "import os\n",
    "import xmltodict\n",
    "from datetime import datetime\n",
    "from matplotlib import pyplot as plt"
   ]
  },
  {
   "cell_type": "code",
   "execution_count": 2,
   "metadata": {},
   "outputs": [],
   "source": [
    "json_path = '/home/adichoudhary/CSE523/vehicle-ReId/repo/data/dataset_1.json'"
   ]
  },
  {
   "cell_type": "code",
   "execution_count": 3,
   "metadata": {},
   "outputs": [],
   "source": [
    "with open(json_path, \"r\") as read_file:\n",
    "    data = json.load(read_file)"
   ]
  },
  {
   "cell_type": "code",
   "execution_count": 4,
   "metadata": {},
   "outputs": [
    {
     "data": {
      "text/plain": [
       "dict_keys(['Set01', 'Set02', 'Set03', 'Set04', 'Set05'])"
      ]
     },
     "execution_count": 4,
     "metadata": {},
     "output_type": "execute_result"
    }
   ],
   "source": [
    "data.keys()"
   ]
  },
  {
   "cell_type": "code",
   "execution_count": 5,
   "metadata": {},
   "outputs": [
    {
     "name": "stdout",
     "output_type": "stream",
     "text": [
      "102810\n",
      "84092\n",
      "96389\n",
      "63827\n",
      "76343\n"
     ]
    }
   ],
   "source": [
    "for k in data.keys():\n",
    "    print (len(data[k]))"
   ]
  },
  {
   "cell_type": "markdown",
   "metadata": {},
   "source": [
    "## Extract Frames"
   ]
  },
  {
   "cell_type": "code",
   "execution_count": 11,
   "metadata": {},
   "outputs": [],
   "source": [
    "def get_images(orig_image, patch):\n",
    "    \n",
    "#     print (\"Orig image - \", orig_image)\n",
    "#     print (\"patch - \", patch)\n",
    "\n",
    "\n",
    "    ## search images \n",
    "    img = cv.imread(orig_image,0)\n",
    "#     img2 = img.copy()\n",
    "    template = cv.imread(patch,0)\n",
    "    w, h = template.shape[::-1]\n",
    "\n",
    "    # method = 'cv.TM_CCOEFF_NORMED'\n",
    "#     display(img)\n",
    "#     display(template)\n",
    "    # Apply template Matching\n",
    "    res = cv.matchTemplate(img,template,cv.TM_CCOEFF_NORMED)\n",
    "    min_val, max_val, min_loc, max_loc = cv.minMaxLoc(res)\n",
    "#     print (max_val)\n",
    "    if max_val < 0.95:\n",
    "        print(max_val)\n",
    "        print(orig_image)\n",
    "        print(patch)\n",
    "        print ()\n",
    "        \n",
    "    top_left = max_loc\n",
    "    bottom_right = (top_left[0] + w, top_left[1] + h)\n",
    "\n",
    "    w_2 = int(w/2)\n",
    "    h_2 = int(h/2)\n",
    "#     print (top_left)\n",
    "#     print(bottom_right)\n",
    "    \n",
    "    # all surrounding\n",
    "    bdry_top_left_all = (max(0,max_loc[0]-w_2), max(0,max_loc[1]-h_2))\n",
    "    # without decreasing height\n",
    "    bdry_top_left = (max(0,max_loc[0]-w_2), max_loc[1])\n",
    "    \n",
    "    #Original image size - (1920, 1080)\n",
    "    bdry_bottom_right = (min(bottom_right[0]+w_2,1920), \n",
    "                         min(bottom_right[1]+h_2,1080))\n",
    "#     print (\"Boundary \")\n",
    "#     print (bdry_top_left_all)\n",
    "#     print (bdry_bottom_right)\n",
    "    \n",
    "    # Now cropping from the above results\n",
    "    im = Image.open(orig_image)\n",
    "    im_crop_center = im.crop((top_left[0], top_left[1], bottom_right[0], bottom_right[1]))\n",
    "\n",
    "    # To delete the between patch\n",
    "    rect_size = (w, h)\n",
    "    rect_pos = top_left\n",
    "    im2 = im#.copy()\n",
    "    \n",
    "    rect = Image.new(\"RGBA\", rect_size, (255, 255, 255, 0))\n",
    "    im2.paste(rect, rect_pos)\n",
    "\n",
    "    im_crop_all = im2.crop((bdry_top_left_all[0], bdry_top_left_all[1],\n",
    "                       bdry_bottom_right[0], bdry_bottom_right[1]))\n",
    "    \n",
    "    im_crop = im2.crop((bdry_top_left[0], bdry_top_left[1],\n",
    "                       bdry_bottom_right[0], bdry_bottom_right[1]))\n",
    "    \n",
    "    return [im_crop_center, im_crop, im_crop_all]\n",
    "    \n",
    "    "
   ]
  },
  {
   "cell_type": "code",
   "execution_count": 8,
   "metadata": {},
   "outputs": [],
   "source": [
    "# car_1_img.split('.')[0]"
   ]
  },
  {
   "cell_type": "code",
   "execution_count": 6,
   "metadata": {},
   "outputs": [
    {
     "data": {
      "text/plain": [
       "84092"
      ]
     },
     "execution_count": 6,
     "metadata": {},
     "output_type": "execute_result"
    }
   ],
   "source": [
    "len(data['Set02'])"
   ]
  },
  {
   "cell_type": "code",
   "execution_count": 13,
   "metadata": {
    "scrolled": true
   },
   "outputs": [
    {
     "name": "stdout",
     "output_type": "stream",
     "text": [
      "Time at line  0  -  0:00:01.074811\n",
      "Time at line  1000  -  0:22:20.718110\n",
      "Time at line  2000  -  0:20:25.528605\n",
      "Time at line  3000  -  0:23:47.563153\n",
      "Time at line  4000  -  0:21:41.580538\n",
      "Time at line  5000  -  0:21:02.395130\n",
      "Time at line  6000  -  0:20:45.429804\n",
      "Time at line  7000  -  0:20:06.041667\n",
      "Time at line  8000  -  0:23:24.676408\n",
      "Time at line  9000  -  0:22:13.887361\n",
      "Time at line  10000  -  0:22:11.309904\n",
      "Time at line  11000  -  0:18:53.371878\n",
      "Time at line  12000  -  0:22:09.401393\n",
      "Time at line  13000  -  0:26:49.891451\n",
      "Time at line  14000  -  0:34:06.962851\n",
      "Time at line  15000  -  0:25:17.009701\n",
      "Time at line  16000  -  0:19:33.954979\n",
      "Time at line  17000  -  0:19:25.740454\n",
      "Time at line  18000  -  0:17:42.185300\n",
      "Time at line  19000  -  0:17:47.829743\n",
      "Time at line  20000  -  0:17:42.897754\n",
      "Time at line  21000  -  0:19:24.628879\n",
      "Time at line  22000  -  0:20:04.416756\n",
      "Time at line  23000  -  0:18:30.239948\n",
      "Time at line  24000  -  0:19:28.085586\n",
      "Time at line  25000  -  0:20:06.057416\n",
      "Time at line  26000  -  0:21:18.270373\n",
      "Time at line  27000  -  0:22:05.152879\n",
      "Time at line  28000  -  0:18:53.721026\n",
      "Time at line  29000  -  0:21:09.846865\n",
      "Time at line  30000  -  0:21:51.422908\n",
      "Time at line  31000  -  0:20:28.893834\n",
      "Time at line  32000  -  0:21:32.026924\n",
      "Time at line  33000  -  0:19:56.946581\n",
      "Time at line  34000  -  0:16:41.295684\n",
      "Time at line  35000  -  0:19:52.475986\n",
      "Time at line  36000  -  0:19:29.644910\n",
      "Time at line  37000  -  0:20:56.853757\n",
      "Time at line  38000  -  0:17:16.971079\n",
      "Time at line  39000  -  0:17:37.023912\n",
      "Time at line  40000  -  0:16:35.660699\n",
      "Time at line  41000  -  0:14:46.939722\n",
      "Time at line  42000  -  0:16:42.774128\n",
      "Time at line  43000  -  0:18:11.369014\n",
      "Time at line  44000  -  0:15:52.326757\n",
      "Time at line  45000  -  0:18:16.426062\n",
      "Time at line  46000  -  0:16:33.466788\n",
      "Time at line  47000  -  0:16:06.453063\n",
      "Time at line  48000  -  0:14:43.400250\n",
      "Time at line  49000  -  0:16:55.927019\n",
      "Time at line  50000  -  0:14:48.098734\n",
      "Time at line  51000  -  0:16:34.618016\n",
      "Time at line  52000  -  0:15:14.344330\n",
      "Time at line  53000  -  0:15:06.180332\n",
      "Time at line  54000  -  0:16:18.364614\n",
      "Time at line  55000  -  0:15:39.081914\n",
      "Time at line  56000  -  0:16:44.315852\n",
      "Time at line  57000  -  0:15:12.937299\n",
      "Time at line  58000  -  0:15:41.065009\n",
      "Time at line  59000  -  0:15:52.749214\n",
      "Time at line  60000  -  0:16:25.028049\n",
      "Time at line  61000  -  0:16:06.839598\n",
      "Time at line  62000  -  0:16:40.488862\n",
      "Time at line  63000  -  0:14:08.779842\n",
      "Time at line  64000  -  0:15:16.626759\n",
      "Time at line  65000  -  0:15:28.660144\n",
      "Time at line  66000  -  0:16:19.076482\n",
      "Time at line  67000  -  0:14:59.682561\n",
      "Time at line  68000  -  0:15:50.669848\n",
      "Time at line  69000  -  0:17:42.390646\n",
      "Time at line  70000  -  0:15:50.040312\n",
      "Time at line  71000  -  0:14:58.904332\n",
      "Time at line  72000  -  0:14:48.353383\n",
      "Time at line  73000  -  0:13:49.502113\n",
      "Time at line  74000  -  0:15:21.295146\n",
      "Time at line  75000  -  0:13:39.013021\n",
      "Time at line  76000  -  0:14:36.458996\n",
      "Time at line  77000  -  0:15:55.698812\n",
      "Time at line  78000  -  0:15:02.158924\n",
      "Time at line  79000  -  0:15:25.654526\n",
      "Time at line  80000  -  0:14:33.349610\n",
      "Time at line  81000  -  0:13:41.267998\n",
      "Time at line  82000  -  0:14:44.366350\n",
      "Time at line  83000  -  0:14:52.754989\n",
      "Time at line  84000  -  0:14:37.801449\n"
     ]
    }
   ],
   "source": [
    "for num in range(2,3):\n",
    "    \n",
    "    parent_dir = \"/home/adichoudhary/CSE523/vehicle-ReId/repo/data_new/dataset/\"\n",
    "    \n",
    "    set_num = \"Set0\"+str(num)\n",
    "    i=0\n",
    "    car_str = 'classes_carros'\n",
    "    sur_str = 'classes_surr'\n",
    "    surall_str = 'classes_surrall'\n",
    "    class_li = [car_str, sur_str, surall_str]\n",
    "    start=datetime.now()\n",
    "    for row in data[set_num]:\n",
    "    \n",
    "        label = row[4]\n",
    "        #Camera 1\n",
    "        car_1 = row[1][0]\n",
    "        #Camera 2\n",
    "        car_2 = row[3][0]\n",
    "\n",
    "        car_1_name = car_1.split('/')[-2]\n",
    "        car_1_img = car_1.split('/')[-1]\n",
    "        car_1_img = int(car_1_img.split('.')[0])+1\n",
    "        \n",
    "        car_2_name = car_2.split('/')[-2]\n",
    "        car_2_img = car_2.split('/')[-1]\n",
    "        car_2_img = int(car_2_img.split('.')[0])+1\n",
    "        \n",
    "#         print(car_1,car_1_img)\n",
    "#         print(car_2,car_2_img)\n",
    "#         print(label)\n",
    "        \n",
    "        car_1_orig_img = '/data/adichoudhary/frames/Camera1/Set0'+str(num)+'/'+str(car_1_img)+'.jpg'\n",
    "\n",
    "        patch_1 = '/home/adichoudhary/CSE523/vehicle-ReId/repo/'+car_1\n",
    "        \n",
    "        \n",
    "        car_2_orig_img = '/data/adichoudhary/frames/Camera2/Set0'+str(num)+'/'+str(car_2_img)+'.jpg'\n",
    "\n",
    "        patch_2 = '/home/adichoudhary/CSE523/vehicle-ReId/repo/'+car_2\n",
    "        \n",
    "        res_1 = get_images(car_1_orig_img, patch_1)\n",
    "        \n",
    "#         for r in res_1:\n",
    "#             display(r)\n",
    "        \n",
    "        res_2 = get_images(car_2_orig_img, patch_2)\n",
    "        \n",
    "#         for r in res_2:\n",
    "#             display(r)\n",
    "        # check if all 3 images already present - Continue\n",
    "        \n",
    "        \n",
    "        #Save these 3 images per Car to respective directories\n",
    "\n",
    "        for cl in range(len(class_li)):\n",
    "            path_1 = os.path.join(parent_dir, \"Camera1\", set_num, class_li[cl], car_1_name ) \n",
    "            path_2 = os.path.join(parent_dir, \"Camera2\", set_num, class_li[cl], car_2_name )\n",
    "\n",
    "    #         os.mkdir(path_1)\n",
    "            Path(path_1).mkdir(parents=True, exist_ok=True)\n",
    "            Path(path_2).mkdir(parents=True, exist_ok=True)\n",
    "            \n",
    "            img_1_path = path_1+\"/\"+str(car_1_img-1)+\".png\"\n",
    "            res_1[cl].save(img_1_path)\n",
    "            \n",
    "            img_2_path = path_2+\"/\"+str(car_2_img-1)+\".png\"\n",
    "            res_2[cl].save(img_2_path)\n",
    "            \n",
    "#             print (img_1_path)\n",
    "#             print (img_2_path)\n",
    "#             print ()\n",
    "            \n",
    "        if i%1000 == 0:\n",
    "            print ('Time at line ',i,' - ',datetime.now()-start)\n",
    "            start=datetime.now()\n",
    "        i+=1\n",
    "    \n",
    "    \n"
   ]
  },
  {
   "cell_type": "code",
   "execution_count": null,
   "metadata": {},
   "outputs": [],
   "source": []
  }
 ],
 "metadata": {
  "kernelspec": {
   "display_name": "Python 3",
   "language": "python",
   "name": "python3"
  },
  "language_info": {
   "codemirror_mode": {
    "name": "ipython",
    "version": 3
   },
   "file_extension": ".py",
   "mimetype": "text/x-python",
   "name": "python",
   "nbconvert_exporter": "python",
   "pygments_lexer": "ipython3",
   "version": "3.7.6"
  }
 },
 "nbformat": 4,
 "nbformat_minor": 4
}
