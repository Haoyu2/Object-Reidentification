{
 "cells": [
  {
   "cell_type": "code",
   "execution_count": 3,
   "metadata": {},
   "outputs": [],
   "source": [
    "import numpy as np\n",
    "import cv2"
   ]
  },
  {
   "cell_type": "code",
   "execution_count": 6,
   "metadata": {},
   "outputs": [
    {
     "name": "stdout",
     "output_type": "stream",
     "text": [
      "Starting Video -  3\n",
      "3000\n",
      "6000\n",
      "9000\n",
      "12000\n",
      "15000\n",
      "18000\n",
      "21000\n",
      "24000\n",
      "27000\n",
      "30000\n",
      "33000\n",
      "35587\n",
      "Finished Video -  3\n",
      "======================\n",
      "Starting Video -  4\n",
      "3000\n",
      "6000\n",
      "9000\n",
      "12000\n",
      "15000\n",
      "18000\n",
      "21000\n",
      "24000\n",
      "27000\n",
      "30000\n",
      "33000\n",
      "35551\n",
      "Finished Video -  4\n",
      "======================\n",
      "Starting Video -  5\n",
      "3000\n",
      "6000\n",
      "9000\n",
      "12000\n",
      "15000\n",
      "18000\n",
      "21000\n",
      "24000\n",
      "27000\n",
      "30000\n",
      "33000\n",
      "35668\n",
      "Finished Video -  5\n",
      "======================\n"
     ]
    }
   ],
   "source": [
    "# Save all frames from the video\n",
    "# videos_num = range(1,6)\n",
    "videos_num = range(3,6)\n",
    "for num in videos_num:\n",
    "\n",
    "    cap= cv2.VideoCapture('/data/adichoudhary/videos/Camera1/Set0'\n",
    "                          +str(num)+'.h264')\n",
    "    print(\"Starting Video - \",num)\n",
    "    i=1\n",
    "    while(cap.isOpened()):\n",
    "        ret, frame = cap.read()\n",
    "        if ret == False:\n",
    "            break\n",
    "        cv2.imwrite('/data/adichoudhary/frames/Camera1/Set0'+str(num)+'/'\n",
    "                +str(i)+'.jpg',frame)\n",
    "        i+=1\n",
    "        if i %3000 == 0:\n",
    "            print (i)\n",
    "    cap.release()\n",
    "    print (i)\n",
    "    print(\"Finished Video - \",num)\n",
    "    print(\"======================\")"
   ]
  },
  {
   "cell_type": "code",
   "execution_count": null,
   "metadata": {},
   "outputs": [],
   "source": [
    "# For Camera2\n",
    "# Save all frames from the video\n",
    "videos_num = range(1,6)\n",
    "for num in videos_num:\n",
    "\n",
    "    cap= cv2.VideoCapture('/data/adichoudhary/videos/Camera2/Set0'\n",
    "                          +str(num)+'.h264')\n",
    "    print(\"Starting Video - \",num)\n",
    "    i=1\n",
    "    while(cap.isOpened()):\n",
    "        ret, frame = cap.read()\n",
    "        if ret == False:\n",
    "            break\n",
    "        cv2.imwrite('/data/adichoudhary/frames/Camera2/Set0'+str(num)+'/'\n",
    "                +str(i)+'.jpg',frame)\n",
    "        i+=1\n",
    "#         if i >= 5100:\n",
    "#             break\n",
    "        if i %2000 == 0:\n",
    "            print (i)\n",
    "    cap.release()\n",
    "    print (i)\n",
    "    print(\"Finished Video - \",num)\n",
    "    print(\"======================\")"
   ]
  },
  {
   "cell_type": "code",
   "execution_count": null,
   "metadata": {},
   "outputs": [],
   "source": []
  },
  {
   "cell_type": "code",
   "execution_count": 45,
   "metadata": {},
   "outputs": [],
   "source": [
    "# cap = cv2.VideoCapture('./CSE523/data/Set01.h264') #video_name is the video being called\n",
    "cap = cv2.VideoCapture('/data/adichoudhary/videos/Camera1/Set03.h264')"
   ]
  },
  {
   "cell_type": "code",
   "execution_count": 83,
   "metadata": {},
   "outputs": [],
   "source": [
    "# cap= cv2.VideoCapture('/data/adichoudhary/videos/Camera1/Set02.h264')\n",
    "cap.set(1,64); # Where frame_no is the frame you want\n",
    "ret, frame = cap.read() # Read the frame\n",
    "cap.release()"
   ]
  },
  {
   "cell_type": "code",
   "execution_count": 54,
   "metadata": {},
   "outputs": [
    {
     "name": "stdout",
     "output_type": "stream",
     "text": [
      "fps = 25.0\n",
      "number of frames = -192153584101141.0\n",
      "duration (S) = -7686143364045.64\n",
      "duration (M:S) = -128102389400:14.3603515625\n"
     ]
    }
   ],
   "source": [
    "fps = cap.get(cv2.CAP_PROP_FPS)      # OpenCV2 version 2 used \"CV_CAP_PROP_FPS\"\n",
    "frame_count = (cap.get(cv2.CAP_PROP_FRAME_COUNT))\n",
    "duration = frame_count/fps\n",
    "\n",
    "print('fps = ' + str(fps))\n",
    "print('number of frames = ' + str(frame_count))\n",
    "print('duration (S) = ' + str(duration))\n",
    "minutes = int(duration/60)\n",
    "seconds = duration%60\n",
    "print('duration (M:S) = ' + str(minutes) + ':' + str(seconds))\n"
   ]
  },
  {
   "cell_type": "code",
   "execution_count": 34,
   "metadata": {},
   "outputs": [],
   "source": [
    "cap.set(cv2.CAP_PROP_FRAME_COUNT, 0)\n",
    "cap.release()"
   ]
  },
  {
   "cell_type": "code",
   "execution_count": 36,
   "metadata": {},
   "outputs": [
    {
     "data": {
      "text/plain": [
       "-192153584101141.0"
      ]
     },
     "execution_count": 36,
     "metadata": {},
     "output_type": "execute_result"
    }
   ],
   "source": [
    "cap.get(cv2.CAP_PROP_FRAME_COUNT)"
   ]
  },
  {
   "cell_type": "code",
   "execution_count": 22,
   "metadata": {},
   "outputs": [
    {
     "data": {
      "text/plain": [
       "25.0"
      ]
     },
     "execution_count": 22,
     "metadata": {},
     "output_type": "execute_result"
    }
   ],
   "source": [
    "cap.get(cv2.CAP_PROP_FPS)\n"
   ]
  },
  {
   "cell_type": "code",
   "execution_count": null,
   "metadata": {},
   "outputs": [],
   "source": []
  }
 ],
 "metadata": {
  "kernelspec": {
   "display_name": "Python 3",
   "language": "python",
   "name": "python3"
  },
  "language_info": {
   "codemirror_mode": {
    "name": "ipython",
    "version": 3
   },
   "file_extension": ".py",
   "mimetype": "text/x-python",
   "name": "python",
   "nbconvert_exporter": "python",
   "pygments_lexer": "ipython3",
   "version": "3.7.6"
  }
 },
 "nbformat": 4,
 "nbformat_minor": 4
}
